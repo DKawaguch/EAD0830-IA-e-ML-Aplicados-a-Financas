{
 "cells": [
  {
   "cell_type": "code",
   "execution_count": null,
   "id": "847ebfd0",
   "metadata": {},
   "outputs": [],
   "source": [
    "import pandas as pd\n",
    "import numpy as np\n",
    "from scipy.optimize import minimize\n",
    "from openpyxl import load_workbook"
   ]
  },
  {
   "cell_type": "code",
   "execution_count": null,
   "id": "6e991f1e",
   "metadata": {},
   "outputs": [],
   "source": [
    "# 1. Carregar dados\n",
    "df_prices = pd.read_excel(\"stocks_train.xlsx\", index_col=0, parse_dates=True)  # Lê os preços históricos das ações"
   ]
  },
  {
   "cell_type": "code",
   "execution_count": null,
   "id": "646763d0",
   "metadata": {},
   "outputs": [],
   "source": [
    "# 2. Calcular retornos diários\n",
    "returns = df_prices.pct_change().dropna(how='any')  # Calcula os retornos percentuais diários e remove valores nulos"
   ]
  },
  {
   "cell_type": "code",
   "execution_count": null,
   "id": "8e0ba22a",
   "metadata": {},
   "outputs": [],
   "source": [
    "# 3. Funções auxiliares\n",
    "def annualized_return(weights, mean_daily_returns):\n",
    "\t# Calcula o retorno anualizado do portfólio\n",
    "\treturn np.dot(weights, mean_daily_returns) * 252\n",
    "\n",
    "def annualized_volatility(weights, cov_matrix):\n",
    "\t# Calcula a volatilidade anualizada do portfólio\n",
    "\treturn np.sqrt(np.dot(weights.T, np.dot(cov_matrix, weights))) * np.sqrt(252)\n",
    "\n",
    "def negative_sharpe_ratio(weights, mean_daily_returns, cov_matrix, risk_free_rate=0.0):\n",
    "\t# Calcula o Sharpe Ratio negativo (para ser minimizado)\n",
    "\tret = annualized_return(weights, mean_daily_returns)\n",
    "\tvol = annualized_volatility(weights, cov_matrix)\n",
    "\treturn -(ret - risk_free_rate) / vol"
   ]
  },
  {
   "cell_type": "code",
   "execution_count": null,
   "id": "1755b2ea",
   "metadata": {},
   "outputs": [],
   "source": [
    "# 4. Preparar variáveis para otimização\n",
    "mean_returns = returns.mean()  # Média dos retornos diários de cada ativo\n",
    "cov_matrix = returns.cov()     # Matriz de covariância dos retornos\n",
    "num_assets = len(mean_returns) # Número de ativos\n",
    "\n",
    "constraints = ({\"type\": \"eq\", \"fun\": lambda x: np.sum(x) - 1},)  # Restrição: soma dos pesos = 1\n",
    "bounds = tuple((0, 1) for _ in range(num_assets))                 # Limites: cada peso entre 0 e 1\n",
    "initial_guess = num_assets * [1. / num_assets]                    # Chute inicial: pesos iguais"
   ]
  },
  {
   "cell_type": "code",
   "execution_count": null,
   "id": "53e6e953",
   "metadata": {},
   "outputs": [],
   "source": [
    "# 5. Otimização\n",
    "opt_result = minimize(\n",
    "\tnegative_sharpe_ratio,           # Função objetivo (Sharpe negativo)\n",
    "\tinitial_guess,                   # Chute inicial\n",
    "\targs=(mean_returns, cov_matrix), # Argumentos extras para a função objetivo\n",
    "\tmethod='SLSQP',                  # Algoritmo de otimização\n",
    "\tbounds=bounds,                   # Limites dos pesos\n",
    "\tconstraints=constraints          # Restrições\n",
    ")\n",
    "\n",
    "weights_opt = opt_result.x           # Vetor de pesos otimizados\n",
    "tickers = mean_returns.index         # Lista dos tickers dos ativos"
   ]
  },
  {
   "cell_type": "code",
   "execution_count": null,
   "id": "92067a1e",
   "metadata": {},
   "outputs": [],
   "source": [
    "# 6. Exportar no formato solicitado\n",
    "from openpyxl import Workbook\n",
    "\n",
    "wb = Workbook()                      # Cria um novo arquivo Excel\n",
    "ws = wb.active                       # Seleciona a planilha ativa\n",
    "\n",
    "ws[\"A1\"] = \"Código\"                  # Escreve o cabeçalho \"Código\" na célula A1\n",
    "ws[\"A2\"] = \"Peso\"                    # Escreve o cabeçalho \"Peso\" na célula A2\n",
    "\n",
    "# Escreve os tickers e pesos nas colunas B até CW\n",
    "for i, (ticker, peso) in enumerate(zip(tickers, weights_opt), start=2):  # coluna B = 2\n",
    "\tcol_letter = ws.cell(row=1, column=i).column_letter  # Obtém a letra da coluna\n",
    "\tws[f\"{col_letter}1\"] = ticker                       # Escreve o ticker na linha 1\n",
    "\tws[f\"{col_letter}2\"] = float(peso)                  # Escreve o peso na linha 2\n",
    "\n",
    "wb.save(\"PesosOtimizados.xlsx\")      # Salva o arquivo Excel com os pesos otimizados\n"
   ]
  }
 ],
 "metadata": {
  "kernelspec": {
   "display_name": "Python 3",
   "language": "python",
   "name": "python3"
  },
  "language_info": {
   "codemirror_mode": {
    "name": "ipython",
    "version": 3
   },
   "file_extension": ".py",
   "mimetype": "text/x-python",
   "name": "python",
   "nbconvert_exporter": "python",
   "pygments_lexer": "ipython3",
   "version": "3.12.2"
  }
 },
 "nbformat": 4,
 "nbformat_minor": 5
}
